{
 "cells": [
  {
   "cell_type": "code",
   "execution_count": 3,
   "metadata": {},
   "outputs": [
    {
     "data": {
      "text/plain": [
       "True"
      ]
     },
     "execution_count": 3,
     "metadata": {},
     "output_type": "execute_result"
    }
   ],
   "source": [
    "from dotenv import load_dotenv\n",
    "\n",
    "load_dotenv()"
   ]
  },
  {
   "cell_type": "code",
   "execution_count": 4,
   "metadata": {},
   "outputs": [
    {
     "name": "stdout",
     "output_type": "stream",
     "text": [
      "[답변]: content='《심슨 가족》은 주로 5명의 주요 캐릭터로 구성되어 있습니다. 이들은 다음과 같습니다:\\n\\n1. 호머 심슨 (Homer Simpson)\\n2. 마지 심슨 (Marge Simpson)\\n3. 바트 심슨 (Bart Simpson)\\n4. 리사 심슨 (Lisa Simpson)\\n5. 매기 심슨 (Maggie Simpson)\\n\\n이 외에도 많은 조연 캐릭터들이 등장하지만, 주된 가족 구성원은 이 5명입니다.' additional_kwargs={'refusal': None} response_metadata={'token_usage': {'completion_tokens': 105, 'prompt_tokens': 16, 'total_tokens': 121, 'completion_tokens_details': {'accepted_prediction_tokens': 0, 'audio_tokens': 0, 'reasoning_tokens': 0, 'rejected_prediction_tokens': 0}, 'prompt_tokens_details': {'audio_tokens': 0, 'cached_tokens': 0}}, 'model_name': 'gpt-4o-mini-2024-07-18', 'system_fingerprint': 'fp_0ba0d124f1', 'finish_reason': 'stop', 'logprobs': None} id='run-9fcb48f4-0869-4848-b82c-3eafc59abb7e-0' usage_metadata={'input_tokens': 16, 'output_tokens': 105, 'total_tokens': 121, 'input_token_details': {'audio': 0, 'cache_read': 0}, 'output_token_details': {'audio': 0, 'reasoning': 0}}\n"
     ]
    }
   ],
   "source": [
    "from langchain_openai import ChatOpenAI\n",
    "\n",
    "llm = ChatOpenAI(\n",
    "    temperature=0.1,\n",
    "    model_name=\"gpt-4o-mini\"\n",
    ")\n",
    "\n",
    "question = \"심슨가족은 몇명이야?\"\n",
    "\n",
    "print(f\"[답변]: {llm.invoke(question)}\")"
   ]
  },
  {
   "cell_type": "code",
   "execution_count": null,
   "metadata": {},
   "outputs": [
    {
     "name": "stdout",
     "output_type": "stream",
     "text": [
      "응답: content='《심슨 가족》은 주로 5명의 주요 캐릭터로 구성되어 있습니다. 이들은 다음과 같습니다:\\n\\n1. 호머 심슨 (Homer Simpson)\\n2. 마지 심슨 (Marge Simpson)\\n3. 바트 심슨 (Bart Simpson)\\n4. 리사 심슨 (Lisa Simpson)\\n5. 매기 심슨 (Maggie Simpson)\\n\\n이 외에도 많은 조연 캐릭터들이 등장하지만, 심슨 가족의 핵심 구성' additional_kwargs={'refusal': None} response_metadata={'token_usage': {'completion_tokens': 100, 'prompt_tokens': 16, 'total_tokens': 116, 'completion_tokens_details': {'accepted_prediction_tokens': 0, 'audio_tokens': 0, 'reasoning_tokens': 0, 'rejected_prediction_tokens': 0}, 'prompt_tokens_details': {'audio_tokens': 0, 'cached_tokens': 0}}, 'model_name': 'gpt-4o-mini-2024-07-18', 'system_fingerprint': 'fp_0ba0d124f1', 'finish_reason': 'length', 'logprobs': None} id='run-6d2a97ac-1263-485f-a63d-128ebb058e5e-0' usage_metadata={'input_tokens': 16, 'output_tokens': 100, 'total_tokens': 116, 'input_token_details': {'audio': 0, 'cache_read': 0}, 'output_token_details': {'audio': 0, 'reasoning': 0}}\n"
     ]
    }
   ],
   "source": [
    "from langchain_openai import ChatOpenAI\n",
    "\n",
    "model = ChatOpenAI(\n",
    "    model_name=\"gpt-4o-mini\",\n",
    "    temperature=0.1,  #창의성(또는 무작위성) 정도를 조절하는 파라미터, 보통 0부터 1 또는 그 이상의 범위로 설정\n",
    "    max_tokens=100  #생성할 응답의 최대 토큰 수를 제한하는 파라미터\n",
    ")\n",
    "\n",
    "question = \"심슨가족은 몇명이야?\"\n",
    "\n",
    "print(f\"응답: {model.invoke(question)}\")"
   ]
  },
  {
   "cell_type": "code",
   "execution_count": 16,
   "metadata": {},
   "outputs": [
    {
     "data": {
      "text/plain": [
       "AIMessage(content='심슨은 미국의 애니메이션 시리즈로, 1989년에 방영을 시작하여 현재까지도 방영 중인 긴런 애니메이션 시리즈입니다. 심슨은 미국의 일상생활을 풍자적으로 그려내며, 주요 캐릭터들인 홈머 심슨과 그의 가족, 이웃, 친구들의 일상생활과 사건들을 다룹니다.\\n\\n심슨은 미국의 대중문화와 정치, 사회문제 등을 다양한 각도에서 비판하고 유머를 섞어 풍자적으로 그려내는 것으로 유명합니다. 또한, 다양한 에피소드들이 있어서 시청자들에게 재미와 감동을 전달하고 있습니다.\\n\\n심슨은 세계적으로 매우 인기 있는 애니메이션 시리즈로, 다양한 국가에서 방영되고 있으며, 많은 팬층을 보유하고 있습니다. 또한, 심슨은 여러 상을 수상하며 애니메이션의 걸작으로 평가받고 있습니다.', additional_kwargs={'refusal': None}, response_metadata={'token_usage': {'completion_tokens': 357, 'prompt_tokens': 18, 'total_tokens': 375, 'completion_tokens_details': {'accepted_prediction_tokens': 0, 'audio_tokens': 0, 'reasoning_tokens': 0, 'rejected_prediction_tokens': 0}, 'prompt_tokens_details': {'audio_tokens': 0, 'cached_tokens': 0}}, 'model_name': 'gpt-3.5-turbo-0125', 'system_fingerprint': None, 'finish_reason': 'stop', 'logprobs': None}, id='run-6f0e05e3-378a-41d5-b423-65f09fcf89a9-0', usage_metadata={'input_tokens': 18, 'output_tokens': 357, 'total_tokens': 375, 'input_token_details': {'audio': 0, 'cache_read': 0}, 'output_token_details': {'audio': 0, 'reasoning': 0}})"
      ]
     },
     "execution_count": 16,
     "metadata": {},
     "output_type": "execute_result"
    }
   ],
   "source": [
    "from langchain_core.prompts import PromptTemplate\n",
    "from langchain_openai import ChatOpenAI\n",
    "\n",
    "template = \"{lecture}에 대해 설명해주세요\"\n",
    "\n",
    "#인스턴스생성(template매개변수에 탬플릿문자열을 전달함\n",
    "# input_variables=[lecture]은 탬플릿에서 사용할 변수의 이름을 지정함\n",
    "# lecture라는 이름의 변수를템플릿에서 lecture자리표시자에 연결함\n",
    "prompt_template = PromptTemplate(template=template, input_variables=[\"lecure\"])\n",
    "\n",
    "# lecture = input(\"궁금한 캐릭터를 입력하세요 :\")\n",
    "\n",
    "#promptTemplate인스턴스에서format을 사용해 lecture를 사용자가 입력한 값으로 대체한 프롬프트생성\n",
    "prompt = prompt_template.format(lecture=lecture)\n",
    "\n",
    "# \"lecture에 대해 설명해주세요\" 라고 출력됨\n",
    "# print(prompt)\n",
    "\n",
    "model = ChatOpenAI(\n",
    "    model=\"gpt-3.5-turbo\",\n",
    "    temperature=0.1\n",
    ")\n",
    "\n",
    "chain = prompt_template | model\n",
    "\n",
    "input = {\"lecture\": \"심슨\"}\n",
    "\n",
    "chain.invoke(input)\n"
   ]
  },
  {
   "cell_type": "code",
   "execution_count": 19,
   "metadata": {},
   "outputs": [
    {
     "name": "stdout",
     "output_type": "stream",
     "text": [
      "-200자 이내의 한글로작성 :  \n",
      "심슨 가족 중에서도 리사는 똑똑하고 환경 문제에 관심이 많죠. 메기는 아기지만 이미 가족의 큰 사랑을 받고 있어요. 심슨 가족은 항상 서로에게 웃음을 주고, 때론 엉뚱한 상황을 만들어내죠. 이 가족의 유대감은 가히 최고예요!\n"
     ]
    }
   ],
   "source": [
    "from langchain_core.prompts import PromptTemplate\n",
    "from langchain_openai import ChatOpenAI\n",
    "from langchain_core.output_parsers import StrOutputParser\n",
    "\n",
    "template=\"\"\"\n",
    "    당신은 미국의 애니매이션 심슨캐릭터입니다. 주어진 상황에 맞는 대답을 해주세요\n",
    "    양식은 [FORMAT]을 참고하여 작성해주세요\n",
    "    \n",
    "    #상황:\n",
    "    {question}\n",
    "    \n",
    "    #FORMAT\n",
    "    -200자 이내의 한글로작성 :\n",
    "    \n",
    "\"\"\"\n",
    "\n",
    "prompt = PromptTemplate.from_template(template)\n",
    "\n",
    "model = ChatOpenAI(model_name=\"gpt-4o\")\n",
    "\n",
    "output_parser = StrOutputParser()\n",
    "\n",
    "chain = prompt | model | output_parser\n",
    "\n",
    "# print(chain.invoke({\"question\" : \"리사가 0점을 받아 왔어요\"}))\n",
    "\n",
    "print(chain.invoke({\"question\" : [\"리사\",\"메기\",\"심슨\"]}))"
   ]
  },
  {
   "cell_type": "code",
   "execution_count": 21,
   "metadata": {},
   "outputs": [
    {
     "name": "stdout",
     "output_type": "stream",
     "text": [
      "영심이는 한국의 전통적인 캐릭터로, 주로 어린이들에게 친숙한 이미지로 그려집니다. 그녀는 순수하고 호기심 많은 성격을 가지고 있으며, 다양한 모험을 통해 친구들과 함께 성장하는 이야기를 담고 있습니다. 영심이는 한국의 문화와 가치를 전달하는 중요한 역할을 하며, 여러 매체에서 사랑받고 있습니다.\n"
     ]
    }
   ],
   "source": [
    "from langchain_openai import ChatOpenAI\n",
    "from langchain_core.prompts import PromptTemplate\n",
    "from langchain_core.output_parsers import StrOutputParser\n",
    "\n",
    "prompt = PromptTemplate.from_template(\"{lecture}에 대해 3문장으로 설명하세요\")\n",
    "\n",
    "llm = ChatOpenAI(\n",
    "    model_name = \"gpt-4o-mini\",\n",
    "    temperature=0.1\n",
    ")\n",
    "\n",
    "chain = prompt | llm | StrOutputParser()\n",
    "\n",
    "print(chain.invoke({\"lecture\" : \"영심이\"}))"
   ]
  },
  {
   "cell_type": "code",
   "execution_count": 22,
   "metadata": {},
   "outputs": [
    {
     "name": "stdout",
     "output_type": "stream",
     "text": [
      "미키 마우스는 월트 디즈니가 창조한 대표적인 애니메이션 캐릭터로, 1928년 첫 등장 이후 전 세계적으로 사랑받고 있습니다. 그는 귀여운 외모와 긍정적인 성격으로 많은 사람들에게 친근감을 주며, 디즈니의 상징적인 아이콘으로 자리 잡았습니다. 미키 마우스는 다양한 영화, TV 프로그램, 상품 등에서 활발히 활동하며, 디즈니 브랜드의 얼굴 역할을 하고 있습니다."
     ]
    }
   ],
   "source": [
    "from langchain_openai import ChatOpenAI\n",
    "from langchain_core.prompts import PromptTemplate\n",
    "from langchain_core.output_parsers import StrOutputParser\n",
    "\n",
    "prompt = PromptTemplate.from_template(\"{lecture}에 대해 3문장으로 설명하세요\")\n",
    "\n",
    "llm = ChatOpenAI(\n",
    "    model_name = \"gpt-4o-mini\",\n",
    "    temperature=0.1\n",
    ")\n",
    "\n",
    "chain = prompt | llm | StrOutputParser()\n",
    "\n",
    "for token in chain.stream({\"lecture\" : \"미키마우스\"}) : \n",
    "    print(token, end=\"\", flush=True)"
   ]
  },
  {
   "cell_type": "code",
   "execution_count": 25,
   "metadata": {},
   "outputs": [
    {
     "name": "stdout",
     "output_type": "stream",
     "text": [
      "['드래곤볼은 아키라 토리야마가 만든 일본의 인기 만화 및 애니메이션 시리즈로, 주인공 손오공이 드래곤볼을 찾아 모험을 떠나는 이야기를 담고 있습니다. 드래곤볼은 신비로운 구슬로, 이 구슬을 모두 모으면 나타나는 드래곤 신이 소원을 들어주는 능력을 가지고 있습니다. 이 시리즈는 강력한 전투, 다양한 캐릭터, 그리고 우정과 성장의 주제를 통해 전 세계적으로 많은 팬을 확보하고 있습니다.', '손오공은 중국 고전 소설 \"서유기\"의 주인공으로, 원숭이 왕으로 태어난 캐릭터입니다. 그는 뛰어난 무술 실력과 마법적인 능력을 지니고 있으며, 불사의 존재가 되기 위해 여러 가지 모험을 겪습니다. 손오공은 불교의 경전을 찾기 위해 여행하는 스님과 함께하며, 다양한 악당과 시련을 극복하는 이야기를 통해 성장합니다.', '근둔(近屯)은 중국의 전통적인 농업 방식 중 하나로, 농작물의 재배와 가축 사육을 동시에 수행하는 시스템입니다. 이 방식은 농민들이 자급자족할 수 있도록 하여, 식량 안보와 경제적 안정성을 높이는 데 기여합니다. 근둔은 특히 농촌 지역에서 지속 가능한 발전을 위한 중요한 모델로 여겨지고 있습니다.']\n"
     ]
    }
   ],
   "source": [
    "from langchain_openai import ChatOpenAI\n",
    "from langchain_core.prompts import PromptTemplate\n",
    "from langchain_core.output_parsers import StrOutputParser\n",
    "\n",
    "prompt = PromptTemplate.from_template(\"{lecture}에 대해 3문장으로 설명하세요\")\n",
    "\n",
    "llm = ChatOpenAI(\n",
    "    model_name = \"gpt-4o-mini\",\n",
    "    temperature=0.1\n",
    ")\n",
    "\n",
    "chain = prompt | llm | StrOutputParser()\n",
    "\n",
    "result = chain.batch(\n",
    "    [\n",
    "        {\"lecture\" : \"드래곤볼\"},\n",
    "        {\"lecture\":\"손오공\"},\n",
    "        {\"lecture\" : \"근둔\"}\n",
    "    ],\n",
    "    config={\"max_concurrency\":5}\n",
    ")\n",
    "\n",
    "print(result)"
   ]
  },
  {
   "cell_type": "code",
   "execution_count": 28,
   "metadata": {},
   "outputs": [
    {
     "name": "stdout",
     "output_type": "stream",
     "text": [
      "일본의 수도는 도쿄(東京)입니다. 도쿄는 일본의 정치, 경제, 문화의 중심지로, 세계에서 가장 큰 도시 중 하나입니다.\n"
     ]
    }
   ],
   "source": [
    "from langchain_openai import ChatOpenAI\n",
    "from langchain_core.prompts import PromptTemplate\n",
    "from langchain_core.output_parsers import StrOutputParser\n",
    "from langchain_core.runnables import RunnableParallel\n",
    "\n",
    "prompt = PromptTemplate.from_template(\"{lecture}에 대해 3문장으로 설명하세요\")\n",
    "\n",
    "llm = ChatOpenAI(\n",
    "    model_name = \"gpt-4o-mini\",\n",
    "    temperature=0.1\n",
    ")\n",
    "\n",
    "chain1=(\n",
    "    PromptTemplate.from_template(\"{country}의 수도는 어디?\") |llm|StrOutputParser()\n",
    ")\n",
    "\n",
    "chain2 =(\n",
    "    PromptTemplate.from_template(\"{country}의 면적은 얼마야?\") |llm|StrOutputParser()\n",
    ")\n",
    "\n",
    "#병렬 실행 체인\n",
    "combined = RunnableParallel(capital=chain1, area=chain2)\n",
    "\n",
    "print(chain1.invoke({\"country\": \"일본\"}))\n",
    "# print(chain2.invoke({\"conuntry\" :\"미국\"}))"
   ]
  },
  {
   "cell_type": "code",
   "execution_count": 29,
   "metadata": {},
   "outputs": [
    {
     "name": "stdout",
     "output_type": "stream",
     "text": [
      "{'capital': '미국의 수도는 워싱턴 D.C.입니다.', 'area': '미국의 면적은 약 9,830,000 평방킬로미터(약 3,796,000 평방마일)입니다. 이는 미국이 세계에서 세 번째로 큰 나라임을 의미합니다. 러시아와 캐나다에 이어 면적이 가장 큰 국가입니다.'}\n"
     ]
    }
   ],
   "source": [
    "from langchain_openai import ChatOpenAI\n",
    "from langchain_core.prompts import PromptTemplate\n",
    "from langchain_core.output_parsers import StrOutputParser\n",
    "from langchain_core.runnables import RunnableParallel\n",
    "\n",
    "prompt = PromptTemplate.from_template(\"{lecture}에 대해 3문장으로 설명하세요\")\n",
    "\n",
    "llm = ChatOpenAI(\n",
    "    model_name = \"gpt-4o-mini\",\n",
    "    temperature=0.1\n",
    ")\n",
    "\n",
    "chain1=(\n",
    "    PromptTemplate.from_template(\"{country}의 수도는 어디?\") |llm|StrOutputParser()\n",
    ")\n",
    "\n",
    "chain2 =(\n",
    "    PromptTemplate.from_template(\"{country}의 면적은 얼마야?\") |llm|StrOutputParser()\n",
    ")\n",
    "\n",
    "#병렬 실행 체인\n",
    "combined = RunnableParallel(capital=chain1, area=chain2)\n",
    "\n",
    "result =combined.invoke({\"country\" :\"미국\"})\n",
    "\n",
    "print(result)"
   ]
  },
  {
   "cell_type": "code",
   "execution_count": 30,
   "metadata": {},
   "outputs": [
    {
     "name": "stdout",
     "output_type": "stream",
     "text": [
      "미국의 수도는 워싱턴 D.C.입니다.\n",
      "미국의 면적은 약 9,830,000 평방킬로미터(3,796,000 평방마일)입니다. 이는 세계에서 세 번째로 큰 나라로, 러시아와 캐나다에 이어 가장 큰 면적을 가지고 있습니다.\n"
     ]
    }
   ],
   "source": [
    "from langchain_openai import ChatOpenAI\n",
    "from langchain_core.prompts import PromptTemplate\n",
    "from langchain_core.output_parsers import StrOutputParser\n",
    "from langchain_core.runnables import RunnableParallel\n",
    "\n",
    "prompt = PromptTemplate.from_template(\"{lecture}에 대해 3문장으로 설명하세요\")\n",
    "\n",
    "llm = ChatOpenAI(\n",
    "    model_name = \"gpt-4o-mini\",\n",
    "    temperature=0.1\n",
    ")\n",
    "\n",
    "chain1=(\n",
    "    PromptTemplate.from_template(\"{country}의 수도는 어디?\") |llm|StrOutputParser()\n",
    ")\n",
    "\n",
    "chain2 =(\n",
    "    PromptTemplate.from_template(\"{country}의 면적은 얼마야?\") |llm|StrOutputParser()\n",
    ")\n",
    "\n",
    "#병렬 실행 체인\n",
    "combined = RunnableParallel(capital=chain1, area=chain2)\n",
    "\n",
    "result =combined.invoke({\"country\" :\"미국\"})\n",
    "\n",
    "print(result[\"capital\"])\n",
    "print(result[\"area\"])"
   ]
  },
  {
   "cell_type": "code",
   "execution_count": 31,
   "metadata": {},
   "outputs": [
    {
     "data": {
      "text/plain": [
       "'10의 약수는 1, 2, 5, 10입니다.'"
      ]
     },
     "execution_count": 31,
     "metadata": {},
     "output_type": "execute_result"
    }
   ],
   "source": [
    "from langchain_openai import ChatOpenAI\n",
    "from langchain_core.prompts import PromptTemplate\n",
    "from langchain_core.output_parsers import StrOutputParser\n",
    "\n",
    "llm = ChatOpenAI(\n",
    "    model_name=\"gpt-4o-mini\",\n",
    "    temperature=0.0\n",
    ")\n",
    "\n",
    "prompt = PromptTemplate.from_template(\"{num}의 약수를 알려줘\")\n",
    "\n",
    "chain = prompt | llm | StrOutputParser()\n",
    "\n",
    "chain.invoke(10)"
   ]
  },
  {
   "cell_type": "code",
   "execution_count": null,
   "metadata": {},
   "outputs": [
    {
     "data": {
      "text/plain": [
       "'10의 약수는 1, 2, 5, 10입니다.'"
      ]
     },
     "execution_count": 34,
     "metadata": {},
     "output_type": "execute_result"
    }
   ],
   "source": [
    "from langchain_openai import ChatOpenAI\n",
    "from langchain_core.prompts import PromptTemplate\n",
    "from langchain_core.output_parsers import StrOutputParser\n",
    "from langchain_core.runnables import RunnablePassthrough\n",
    "\n",
    "llm = ChatOpenAI(\n",
    "    model_name=\"gpt-4o-mini\",\n",
    "    temperature=0.0\n",
    ")\n",
    "\n",
    "prompt = PromptTemplate.from_template(\"{num}의 약수를 알려줘\")\n",
    "\n",
    "#키값쌍으로 {\"num\" :RunnablePassthrough()}가 체인에 들어감, 입력을 명시적으로 지정함\n",
    "passthrough_chain = {\"num\" :RunnablePassthrough()} | prompt|llm| StrOutputParser()\n",
    "\n",
    "passthrough_chain.invoke({\"num\":10})"
   ]
  },
  {
   "cell_type": "code",
   "execution_count": null,
   "metadata": {},
   "outputs": [
    {
     "data": {
      "text/plain": [
       "{'num': 1, 'new_date': 3}"
      ]
     },
     "execution_count": 35,
     "metadata": {},
     "output_type": "execute_result"
    }
   ],
   "source": [
    "from langchain_openai import ChatOpenAI\n",
    "from langchain_core.prompts import PromptTemplate\n",
    "from langchain_core.output_parsers import StrOutputParser\n",
    "from langchain_core.runnables import RunnablePassthrough\n",
    "\n",
    "llm = ChatOpenAI(\n",
    "    model_name=\"gpt-4o-mini\",\n",
    "    temperature=0.0\n",
    ")\n",
    "\n",
    "prompt = PromptTemplate.from_template(\"{num}의 약수를 알려줘\")\n",
    "\n",
    "#키값쌍으로 {\"num\" :RunnablePassthrough()}가 체인에 들어감, 입력을 명시적으로 지정함\n",
    "passthrough_chain = {\"num\" :RunnablePassthrough()} | prompt|llm| StrOutputParser()\n",
    "\n",
    "#RunnablePassthrough.assign을 사용해 num 값의 3배를 new_date라는 새 필드로 추가한 딕셔너리 결과를 반환\n",
    "RunnablePassthrough.assign(new_date= lambda x: x[\"num\"]*3).invoke({\"num\":1})"
   ]
  },
  {
   "cell_type": "code",
   "execution_count": null,
   "metadata": {},
   "outputs": [
    {
     "name": "stdout",
     "output_type": "stream",
     "text": [
      "11월 14일이 생일인 유명인 중 몇 명을 소개하자면:\n",
      "\n",
      "1. **프린스 찰스 (Charles, Prince of Wales)** - 영국의 왕세자로, 현재는 찰스 3세로 영국의 국왕입니다.\n",
      "2. **조쉬 더하멜 (Josh Duhamel)** - 미국의 배우로, \"트랜스포머\" 시리즈 등 여러 영화와 TV 프로그램에 출연했습니다.\n",
      "3. **콘도 마리에 (Marie Kondo)** - 일본의 정리 컨설턴트이자 작가로, \"설레지 않으면 버려라\"라는 철학으로 유명합니다.\n",
      "\n",
      "이 외에도 많은 유명인들이 11월 14일에 태어났습니다.\n"
     ]
    }
   ],
   "source": [
    "from datetime import datetime\n",
    "from langchain_core.runnables import RunnableLambda, RunnablePassthrough\n",
    "from operator import itemgetter\n",
    "\n",
    "# get_today 함수는 현재 날짜를 \"월-일\" 형식으로 반환\n",
    "def get_today(num):\n",
    "    return datetime.now().strftime(\"%b-%d\")\n",
    "\n",
    "prompt = PromptTemplate.from_template(\n",
    "    \"{today}가 생일인 유명인 {n}명을 알려줘\"\n",
    ")\n",
    "\n",
    "llm = ChatOpenAI(temperature=0, model_name=\"gpt-4o\")\n",
    "\n",
    "chain=(\n",
    "    {\"today\" :RunnableLambda(get_today), \"n\": itemgetter(\"n\")}\n",
    "    |prompt |llm |StrOutputParser()\n",
    ")\n",
    "\n",
    "print(chain.invoke({\"n\" :3}))"
   ]
  },
  {
   "cell_type": "code",
   "execution_count": 41,
   "metadata": {},
   "outputs": [
    {
     "name": "stdout",
     "output_type": "stream",
     "text": [
      "bear의 직업은 무엇인가요?\n"
     ]
    }
   ],
   "source": [
    "from langchain_openai import ChatOpenAI\n",
    "from langchain_core.prompts import PromptTemplate\n",
    "\n",
    "llm = ChatOpenAI(\n",
    "    model_name=\"gpt-4o-mini\",\n",
    "    temperature=0.1\n",
    ")\n",
    "\n",
    "template = \"{name}의 직업은 무엇인가요?\"\n",
    "\n",
    "prompt = PromptTemplate.from_template(template)\n",
    "\n",
    "prompt = prompt.format(name=\"bear\")\n",
    "\n",
    "print(prompt)"
   ]
  },
  {
   "cell_type": "code",
   "execution_count": null,
   "metadata": {},
   "outputs": [
    {
     "name": "stdout",
     "output_type": "stream",
     "text": [
      "Python은 귀도 반 로썸(Guido van Rossum)에 의해 1989년에 개발되었습니다. 그는 이 언어를 만들 때 코드의 가독성을 중요하게 생각하였고, 간결하고 명확한 문법을 지향했습니다. Python은 1991년에 첫 번째 버전이 공개되었으며, 이후로 많은 개발자들에 의해 발전해왔습니다.\n"
     ]
    }
   ],
   "source": [
    "from langchain_core.prompts import PromptTemplate\n",
    "\n",
    "template = \"{language}는 누가 만들었나요?\"\n",
    "\n",
    "prompt = PromptTemplate.from_template(template)\n",
    "\n",
    "chain = prompt | llm\n",
    "\n",
    "print(chain.invoke(\"Python\").content)"
   ]
  },
  {
   "cell_type": "code",
   "execution_count": 43,
   "metadata": {},
   "outputs": [
    {
     "name": "stdout",
     "output_type": "stream",
     "text": [
      "input_variables=['language'] input_types={} partial_variables={} template='{language}는 누가 만들었나요?'\n"
     ]
    },
    {
     "data": {
      "text/plain": [
       "'Python는 누가 만들었나요?'"
      ]
     },
     "execution_count": 43,
     "metadata": {},
     "output_type": "execute_result"
    }
   ],
   "source": [
    "from langchain_core.prompts import PromptTemplate\n",
    "\n",
    "template = \"{language}는 누가 만들었나요?\"\n",
    "\n",
    "prompt = PromptTemplate(\n",
    "    template=template,\n",
    "    input_variables=[\"language\"],\n",
    ")\n",
    "\n",
    "print(prompt)\n",
    "\n",
    "prompt.format(language=\"Python\")"
   ]
  },
  {
   "cell_type": "code",
   "execution_count": 44,
   "metadata": {},
   "outputs": [
    {
     "name": "stdout",
     "output_type": "stream",
     "text": [
      "input_variables=['language1'] input_types={} partial_variables={'language2': 'Java'} template='{language1}과 {language2}는 각각 누가 만들었나요?'\n"
     ]
    },
    {
     "data": {
      "text/plain": [
       "'Python과 Java는 각각 누가 만들었나요?'"
      ]
     },
     "execution_count": 44,
     "metadata": {},
     "output_type": "execute_result"
    }
   ],
   "source": [
    "from langchain_core.prompts import PromptTemplate\n",
    "\n",
    "template = \"{language1}과 {language2}는 각각 누가 만들었나요?\"\n",
    "\n",
    "# PromptTemplate 객체 생성\n",
    "prompt = PromptTemplate(\n",
    "    template=template,\n",
    "    input_variables=[\"language1\"],\n",
    "    partial_variables={\n",
    "        \"language2\" : \"Java\" # dictionary 형태로 partial_variables 작성\n",
    "    }\n",
    ")\n",
    "\n",
    "print(prompt)\n",
    "\n",
    "prompt.format(language1=\"Python\")"
   ]
  },
  {
   "cell_type": "code",
   "execution_count": null,
   "metadata": {},
   "outputs": [
    {
     "name": "stdout",
     "output_type": "stream",
     "text": [
      "input_variables=['language1'] input_types={} partial_variables={'language2': 'JavaScript'} template='{language1}과 {language2}는 각각 누가 만들었나요?'\n"
     ]
    },
    {
     "data": {
      "text/plain": [
       "StringPromptValue(text='Python과 JavaScript는 각각 누가 만들었나요?')"
      ]
     },
     "execution_count": 45,
     "metadata": {},
     "output_type": "execute_result"
    }
   ],
   "source": [
    "from langchain_core.prompts import PromptTemplate\n",
    "\n",
    "template = \"{language1}과 {language2}는 각각 누가 만들었나요?\"\n",
    "\n",
    "prompt = PromptTemplate(\n",
    "    template=template,\n",
    "    input_variables=[\"language1\"],\n",
    "    partial_variables={\n",
    "        \"language2\" : \"Java\" # dictionary 형태로 partial_variables 작성\n",
    "    }\n",
    ")\n",
    "\n",
    "prompt_partial = prompt.partial(language2=\"JavaScript\")\n",
    "\n",
    "print(prompt_partial)\n",
    "\n",
    "prompt_partial.invoke(\"Python\")\n"
   ]
  },
  {
   "cell_type": "code",
   "execution_count": 46,
   "metadata": {},
   "outputs": [
    {
     "name": "stdout",
     "output_type": "stream",
     "text": [
      "Python은 귀도 반 로썸(Guido van Rossum)에 의해 1991년에 처음 개발되었습니다. 그는 이 언어를 만들 때 코드의 가독성과 사용의 용이성을 중시했습니다.\n",
      "\n",
      "JavaScript는 브렌던 아이크(Brendan Eich)에 의해 1995년에 개발되었습니다. 처음에는 웹 브라우저에서 동적인 기능을 추가하기 위해 설계되었으며, 이후 웹 개발의 중요한 언어로 자리 잡았습니다.\n"
     ]
    }
   ],
   "source": [
    "from langchain_openai import ChatOpenAI\n",
    "from langchain_core.prompts import PromptTemplate\n",
    "\n",
    "template = \"{language1}과 {language2}는 각각 누가 만들었나요?\"\n",
    "\n",
    "prompt = PromptTemplate(\n",
    "    template=template,\n",
    "    input_variables=[\"language1\"],\n",
    "    partial_variables={\n",
    "        \"language2\" : \"Java\" # dictionary 형태로 partial_variables 작성\n",
    "    }\n",
    ")\n",
    "\n",
    "llm = ChatOpenAI(\n",
    "    model_name=\"gpt-4o-mini\",\n",
    "    temperature=0.1\n",
    ")\n",
    "\n",
    "prompt_partial = prompt.partial(language2=\"JavaScript\")\n",
    "\n",
    "chain = prompt_partial | llm\n",
    "\n",
    "print(chain.invoke(\"Python\").content)"
   ]
  }
 ],
 "metadata": {
  "kernelspec": {
   "display_name": "Python 3",
   "language": "python",
   "name": "python3"
  },
  "language_info": {
   "codemirror_mode": {
    "name": "ipython",
    "version": 3
   },
   "file_extension": ".py",
   "mimetype": "text/x-python",
   "name": "python",
   "nbconvert_exporter": "python",
   "pygments_lexer": "ipython3",
   "version": "3.11.10"
  }
 },
 "nbformat": 4,
 "nbformat_minor": 2
}
